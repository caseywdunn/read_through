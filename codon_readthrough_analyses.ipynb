{
 "cells": [
  {
   "cell_type": "markdown",
   "id": "cell-0",
   "metadata": {},
   "source": [
    "# Codon Readthrough Analyses\n",
    "\n",
    "This notebook performs analyses on the processed readthrough data."
   ]
  },
  {
   "cell_type": "code",
   "execution_count": null,
   "id": "cell-1",
   "metadata": {},
   "outputs": [],
   "source": [
    "import pandas as pd\n",
    "import numpy as np\n",
    "import matplotlib.pyplot as plt\n",
    "import seaborn as sns\n",
    "\n",
    "# Set style for plots\n",
    "sns.set_style('whitegrid')\n",
    "plt.rcParams['figure.figsize'] = (12, 6)"
   ]
  },
  {
   "cell_type": "code",
   "execution_count": null,
   "id": "cell-2",
   "metadata": {},
   "outputs": [],
   "source": [
    "# Read in the CSV file\n",
    "df = pd.read_csv('drosophila_readthrough_analysis.csv')\n",
    "print(f\"Loaded {len(df)} genes\")\n",
    "print(f\"\\nColumns: {list(df.columns)}\")\n",
    "df.head()"
   ]
  },
  {
   "cell_type": "markdown",
   "id": "cell-3",
   "metadata": {},
   "source": [
    "## Analysis 1: Genes with Second Stop Codon"
   ]
  },
  {
   "cell_type": "code",
   "execution_count": null,
   "id": "cell-4",
   "metadata": {},
   "outputs": [],
   "source": [
    "# Create subset of transcripts that have a second stop codon (in 3' UTR)\n",
    "df_with_second_stop = df[df['first_stop_after_canonical'] != ''].copy()\n",
    "\n",
    "print(f\"Total genes: {len(df)}\")\n",
    "print(f\"Genes with second stop codon: {len(df_with_second_stop)}\")\n",
    "print(f\"Percentage with second stop: {len(df_with_second_stop) / len(df) * 100:.2f}%\")\n",
    "\n",
    "# Breakdown by readthrough status\n",
    "print(f\"\\nBreakdown by readthrough status:\")\n",
    "print(f\"  Readthrough genes with second stop: {len(df_with_second_stop[df_with_second_stop['has_readthrough']])}\")\n",
    "print(f\"  Non-readthrough genes with second stop: {len(df_with_second_stop[~df_with_second_stop['has_readthrough']])}\")"
   ]
  },
  {
   "cell_type": "code",
   "execution_count": null,
   "id": "cell-5",
   "metadata": {},
   "outputs": [],
   "source": [
    "# Calculate ORF2 length (in nucleotides and amino acids)\n",
    "df_with_second_stop['orf2_length_nt'] = df_with_second_stop['orf2_nucleotide'].str.len()\n",
    "df_with_second_stop['orf2_length_aa'] = df_with_second_stop['orf2_translation'].str.replace('*', '').str.len()\n",
    "\n",
    "print(\"ORF2 length statistics (amino acids):\")\n",
    "print(df_with_second_stop.groupby('has_readthrough')['orf2_length_aa'].describe())"
   ]
  },
  {
   "cell_type": "code",
   "execution_count": null,
   "id": "cell-6",
   "metadata": {},
   "outputs": [],
   "source": "# Create histogram of ORF2 length\nfig, axes = plt.subplots(1, 2, figsize=(14, 5))\n\n# Separate data by readthrough status\norf2_readthrough = df_with_second_stop[df_with_second_stop['has_readthrough']]['orf2_length_aa']\norf2_non_readthrough = df_with_second_stop[~df_with_second_stop['has_readthrough']]['orf2_length_aa']\n\n# Histogram 1: Overlaid histograms (normalized by frequency)\naxes[0].hist(orf2_readthrough, bins=50, range=(0, 250), alpha=0.6, \n             label=f'Readthrough (n={len(orf2_readthrough)})', \n             color='red', edgecolor='black', density=True)\naxes[0].hist(orf2_non_readthrough, bins=50, range=(0, 250), alpha=0.6, \n             label=f'Non-readthrough (n={len(orf2_non_readthrough)})', \n             color='blue', edgecolor='black', density=True)\naxes[0].set_xlabel('ORF2 Length (amino acids)')\naxes[0].set_ylabel('Density')\naxes[0].set_title('ORF2 Length Distribution: Readthrough vs Non-readthrough')\naxes[0].set_xlim(0, 250)\naxes[0].legend()\naxes[0].grid(True, alpha=0.3)\n\n# Histogram 2: Side-by-side box plots\nbox_data = [\n    orf2_readthrough[orf2_readthrough <= 250],\n    orf2_non_readthrough[orf2_non_readthrough <= 250]\n]\naxes[1].boxplot(box_data, labels=['Readthrough', 'Non-readthrough'])\naxes[1].set_ylabel('ORF2 Length (amino acids)')\naxes[1].set_title('ORF2 Length Distribution (Box Plot)')\naxes[1].set_ylim(0, 250)\naxes[1].grid(True, alpha=0.3, axis='y')\n\nplt.tight_layout()\nplt.savefig('orf2_length_distribution.png', dpi=300, bbox_inches='tight')\nplt.show()\n\nprint(\"\\nPlot saved as 'orf2_length_distribution.png'\")"
  },
  {
   "cell_type": "code",
   "execution_count": null,
   "id": "cell-7",
   "metadata": {},
   "outputs": [],
   "source": [
    "# Statistical test to compare ORF2 lengths\n",
    "from scipy import stats\n",
    "\n",
    "# Mann-Whitney U test (non-parametric)\n",
    "statistic, pvalue = stats.mannwhitneyu(orf2_readthrough, orf2_non_readthrough, alternative='two-sided')\n",
    "\n",
    "print(\"Statistical comparison of ORF2 lengths:\")\n",
    "print(f\"Mann-Whitney U test:\")\n",
    "print(f\"  U statistic: {statistic:.2f}\")\n",
    "print(f\"  P-value: {pvalue:.4e}\")\n",
    "print(f\"  Significant at α=0.05: {'Yes' if pvalue < 0.05 else 'No'}\")\n",
    "\n",
    "# Calculate median and mean\n",
    "print(f\"\\nReadthrough genes:\")\n",
    "print(f\"  Median ORF2 length: {orf2_readthrough.median():.1f} aa\")\n",
    "print(f\"  Mean ORF2 length: {orf2_readthrough.mean():.1f} aa\")\n",
    "\n",
    "print(f\"\\nNon-readthrough genes:\")\n",
    "print(f\"  Median ORF2 length: {orf2_non_readthrough.median():.1f} aa\")\n",
    "print(f\"  Mean ORF2 length: {orf2_non_readthrough.mean():.1f} aa\")"
   ]
  }
 ],
 "metadata": {
  "kernelspec": {
   "display_name": "Python 3",
   "language": "python",
   "name": "python3"
  },
  "language_info": {
   "codemirror_mode": {
    "name": "ipython",
    "version": 3
   },
   "file_extension": ".py",
   "mimetype": "text/x-python",
   "name": "python",
   "nbconvert_exporter": "python",
   "pygments_lexer": "ipython3",
   "version": "3.8.0"
  }
 },
 "nbformat": 4,
 "nbformat_minor": 5
}